{
 "cells": [
  {
   "cell_type": "code",
   "execution_count": 1,
   "id": "94f799b9",
   "metadata": {},
   "outputs": [],
   "source": [
    "import os\n",
    "import numpy as np\n",
    "import cv2\n",
    "import matplotlib.pyplot as plt"
   ]
  },
  {
   "cell_type": "code",
   "execution_count": 2,
   "id": "951bd09a",
   "metadata": {},
   "outputs": [],
   "source": [
    "dir= r'C:\\Users\\snjts\\Image classification'"
   ]
  },
  {
   "cell_type": "code",
   "execution_count": 3,
   "id": "6e1cd4ba",
   "metadata": {},
   "outputs": [],
   "source": [
    "categories= ['cats', 'dogs']"
   ]
  },
  {
   "cell_type": "code",
   "execution_count": 4,
   "id": "c3414e84",
   "metadata": {},
   "outputs": [],
   "source": [
    "data= []"
   ]
  },
  {
   "cell_type": "code",
   "execution_count": 5,
   "id": "4fc8de2d",
   "metadata": {},
   "outputs": [],
   "source": [
    "for category in categories:\n",
    "    path=os.path.join(dir, category)\n",
    "    label= categories.index(category)\n",
    "    \n",
    "    for img in os.listdir(path):\n",
    "        imgpath= os.path.join(path, img)\n",
    "        pet_img= cv2.imread(imgpath, 0)\n",
    "        #cv2.imshow('image', pet_img)\n",
    "        pet_img= cv2.resize(pet_img, (50,50))    \n",
    "        image= np.array(pet_img).flatten()\n",
    "        data.append([image, label])"
   ]
  },
  {
   "cell_type": "code",
   "execution_count": 6,
   "id": "c2560797",
   "metadata": {},
   "outputs": [
    {
     "name": "stdout",
     "output_type": "stream",
     "text": [
      "8000\n"
     ]
    }
   ],
   "source": [
    "print(len(data))"
   ]
  },
  {
   "cell_type": "code",
   "execution_count": 7,
   "id": "0d2f34f8",
   "metadata": {},
   "outputs": [],
   "source": [
    "import pickle"
   ]
  },
  {
   "cell_type": "code",
   "execution_count": 8,
   "id": "1d944128",
   "metadata": {},
   "outputs": [],
   "source": [
    "pick_in= open('data1.pickle', 'wb')\n",
    "pickle.dump(data, pick_in)\n",
    "pick_in.close()"
   ]
  },
  {
   "cell_type": "code",
   "execution_count": null,
   "id": "a4de28b5",
   "metadata": {},
   "outputs": [],
   "source": []
  },
  {
   "cell_type": "code",
   "execution_count": 9,
   "id": "bc65de41",
   "metadata": {},
   "outputs": [],
   "source": [
    "pick_in= open('data1.pickle', 'rb')\n",
    "data= pickle.load(pick_in)\n",
    "pick_in.close()"
   ]
  },
  {
   "cell_type": "code",
   "execution_count": 10,
   "id": "69193229",
   "metadata": {},
   "outputs": [],
   "source": [
    "import random"
   ]
  },
  {
   "cell_type": "code",
   "execution_count": 11,
   "id": "c1d63afb",
   "metadata": {},
   "outputs": [],
   "source": [
    "random.shuffle(data)\n",
    "features= []\n",
    "labels= []"
   ]
  },
  {
   "cell_type": "code",
   "execution_count": 12,
   "id": "24b298e5",
   "metadata": {},
   "outputs": [],
   "source": [
    "for feature, label in data:\n",
    "    features.append(feature)\n",
    "    labels.append(label)"
   ]
  },
  {
   "cell_type": "code",
   "execution_count": 13,
   "id": "88dec794",
   "metadata": {},
   "outputs": [],
   "source": [
    "from sklearn.model_selection import train_test_split"
   ]
  },
  {
   "cell_type": "code",
   "execution_count": 14,
   "id": "c6d4d98b",
   "metadata": {},
   "outputs": [],
   "source": [
    "xtrain, xtest, ytrain, ytest= train_test_split(features, labels, test_size= 0.25)"
   ]
  },
  {
   "cell_type": "code",
   "execution_count": 15,
   "id": "7d82f86e",
   "metadata": {},
   "outputs": [],
   "source": [
    "from sklearn.svm import SVC"
   ]
  },
  {
   "cell_type": "code",
   "execution_count": 16,
   "id": "f69a9f15",
   "metadata": {},
   "outputs": [],
   "source": [
    "model= SVC(C=1, kernel='poly', gamma= 'auto')"
   ]
  },
  {
   "cell_type": "code",
   "execution_count": 17,
   "id": "a227ee84",
   "metadata": {},
   "outputs": [
    {
     "data": {
      "text/plain": [
       "SVC(C=1, gamma='auto', kernel='poly')"
      ]
     },
     "execution_count": 17,
     "metadata": {},
     "output_type": "execute_result"
    }
   ],
   "source": [
    "model.fit(xtrain, ytrain)"
   ]
  },
  {
   "cell_type": "code",
   "execution_count": 18,
   "id": "4f6c41ef",
   "metadata": {},
   "outputs": [],
   "source": [
    "pick= open('model.sav', 'wb')\n",
    "pickle.dump(model, pick)\n",
    "pick.close()"
   ]
  },
  {
   "cell_type": "code",
   "execution_count": 19,
   "id": "3be39246",
   "metadata": {},
   "outputs": [],
   "source": [
    "prediction= model.predict(xtest)"
   ]
  },
  {
   "cell_type": "code",
   "execution_count": 20,
   "id": "0dd55fa8",
   "metadata": {},
   "outputs": [],
   "source": [
    "accuracy= model.score(xtest, ytest)"
   ]
  },
  {
   "cell_type": "code",
   "execution_count": 21,
   "id": "ca0ff23d",
   "metadata": {},
   "outputs": [],
   "source": [
    "categories= ['cats', 'dogs']"
   ]
  },
  {
   "cell_type": "code",
   "execution_count": 22,
   "id": "854ed4c8",
   "metadata": {},
   "outputs": [
    {
     "name": "stdout",
     "output_type": "stream",
     "text": [
      "Accuracy: 0.5805\n",
      "Prediction is: cats\n"
     ]
    }
   ],
   "source": [
    "print('Accuracy:', accuracy)\n",
    "print('Prediction is:', categories[prediction[0]])"
   ]
  },
  {
   "cell_type": "code",
   "execution_count": 30,
   "id": "9dda8334",
   "metadata": {},
   "outputs": [
    {
     "data": {
      "image/png": "[encoded data removed]",
      "text/plain": [
       "<Figure size 432x288 with 1 Axes>"
      ]
     },
     "metadata": {
      "needs_background": "light"
     },
     "output_type": "display_data"
    }
   ],
   "source": [
    "my_pet= xtest[0].reshape(50,50)\n",
    "plt.imshow(my_pet, cmap= 'gray')\n",
    "plt.show()"
   ]
  },
  {
   "cell_type": "code",
   "execution_count": null,
   "id": "5b64d460",
   "metadata": {},
   "outputs": [],
   "source": []
  }
 ],
 "metadata": {
  "kernelspec": {
   "display_name": "Python 3 (ipykernel)",
   "language": "python",
   "name": "python3"
  },
  "language_info": {
   "codemirror_mode": {
    "name": "ipython",
    "version": 3
   },
   "file_extension": ".py",
   "mimetype": "text/x-python",
   "name": "python",
   "nbconvert_exporter": "python",
   "pygments_lexer": "ipython3",
   "version": "3.9.7"
  }
 },
 "nbformat": 4,
 "nbformat_minor": 5
}
